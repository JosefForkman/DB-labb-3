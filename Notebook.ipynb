{
    "metadata": {
        "kernelspec": {
            "name": "SQL",
            "display_name": "SQL",
            "language": "sql"
        },
        "language_info": {
            "name": "sql",
            "version": ""
        }
    },
    "nbformat_minor": 2,
    "nbformat": 4,
    "cells": [
        {
            "cell_type": "code",
            "source": [
                "ALTER TABLE role_grope ADD id INT NOT NULL IDENTITY(1,1) PRIMARY KEY;"
            ],
            "metadata": {
                "language": "sql",
                "azdata_cell_guid": "60352f02-931e-4680-9cde-32e2a8a21dd3"
            },
            "outputs": [],
            "execution_count": null
        },
        {
            "cell_type": "code",
            "source": [
                "-- Generera 100 nya rader för grade tabellen med slumpmässiga datum och betyg\r\n",
                "INSERT INTO grade (level, student_id, employee_id, subject_id, created_at, updated_at) \r\n",
                "VALUES\r\n",
                "('A', 1, 1, 1, DATEADD(DAY, -FLOOR(RAND() * 1826), GETDATE()), GETDATE()),\r\n",
                "('B', 2, 1, 1, DATEADD(DAY, -FLOOR(RAND() * 1826), GETDATE()), GETDATE()),\r\n",
                "('C', 3, 2, 1, DATEADD(DAY, -FLOOR(RAND() * 1826), GETDATE()), GETDATE()),\r\n",
                "('D', 4, 2, 1, DATEADD(DAY, -FLOOR(RAND() * 1826), GETDATE()), GETDATE()),\r\n",
                "('F', 5, 3, 1, DATEADD(DAY, -FLOOR(RAND() * 1826), GETDATE()), GETDATE()),\r\n",
                "\r\n",
                "('A', 1, 1, 2, DATEADD(DAY, -FLOOR(RAND() * 1826), GETDATE()), GETDATE()),\r\n",
                "('B', 2, 2, 2, DATEADD(DAY, -FLOOR(RAND() * 1826), GETDATE()), GETDATE()),\r\n",
                "('C', 3, 3, 2, DATEADD(DAY, -FLOOR(RAND() * 1826), GETDATE()), GETDATE()),\r\n",
                "('D', 4, 4, 2, DATEADD(DAY, -FLOOR(RAND() * 1826), GETDATE()), GETDATE()),\r\n",
                "('F', 5, 5, 2, DATEADD(DAY, -FLOOR(RAND() * 1826), GETDATE()), GETDATE()),\r\n",
                "\r\n",
                "('A', 1, 1, 3, DATEADD(DAY, -FLOOR(RAND() * 1826), GETDATE()), GETDATE()),\r\n",
                "('B', 2, 2, 3, DATEADD(DAY, -FLOOR(RAND() * 1826), GETDATE()), GETDATE()),\r\n",
                "('C', 3, 3, 3, DATEADD(DAY, -FLOOR(RAND() * 1826), GETDATE()), GETDATE()),\r\n",
                "('D', 4, 4, 3, DATEADD(DAY, -FLOOR(RAND() * 1826), GETDATE()), GETDATE()),\r\n",
                "('F', 5, 5, 3, DATEADD(DAY, -FLOOR(RAND() * 1826), GETDATE()), GETDATE()),\r\n",
                "\r\n",
                "('A', 1, 1, 4, DATEADD(DAY, -FLOOR(RAND() * 1826), GETDATE()), GETDATE()),\r\n",
                "('B', 2, 2, 4, DATEADD(DAY, -FLOOR(RAND() * 1826), GETDATE()), GETDATE()),\r\n",
                "('C', 3, 3, 4, DATEADD(DAY, -FLOOR(RAND() * 1826), GETDATE()), GETDATE()),\r\n",
                "('D', 4, 4, 4, DATEADD(DAY, -FLOOR(RAND() * 1826), GETDATE()), GETDATE()),\r\n",
                "('F', 5, 5, 4, DATEADD(DAY, -FLOOR(RAND() * 1826), GETDATE()), GETDATE()),\r\n",
                "\r\n",
                "('A', 1, 1, 1, DATEADD(DAY, -FLOOR(RAND() * 1826), GETDATE()), GETDATE()),\r\n",
                "('B', 2, 1, 1, DATEADD(DAY, -FLOOR(RAND() * 1826), GETDATE()), GETDATE()),\r\n",
                "('C', 3, 2, 1, DATEADD(DAY, -FLOOR(RAND() * 1826), GETDATE()), GETDATE()),\r\n",
                "('D', 4, 2, 1, DATEADD(DAY, -FLOOR(RAND() * 1826), GETDATE()), GETDATE()),\r\n",
                "('F', 5, 3, 1, DATEADD(DAY, -FLOOR(RAND() * 1826), GETDATE()), GETDATE()),\r\n",
                "\r\n",
                "('A', 1, 1, 2, DATEADD(DAY, -FLOOR(RAND() * 1826), GETDATE()), GETDATE()),\r\n",
                "('B', 2, 2, 2, DATEADD(DAY, -FLOOR(RAND() * 1826), GETDATE()), GETDATE()),\r\n",
                "('C', 3, 3, 2, DATEADD(DAY, -FLOOR(RAND() * 1826), GETDATE()), GETDATE()),\r\n",
                "('D', 4, 4, 2, DATEADD(DAY, -FLOOR(RAND() * 1826), GETDATE()), GETDATE()),\r\n",
                "('F', 5, 5, 2, DATEADD(DAY, -FLOOR(RAND() * 1826), GETDATE()), GETDATE()),\r\n",
                "\r\n",
                "('A', 1, 1, 3, DATEADD(DAY, -FLOOR(RAND() * 1826), GETDATE()), GETDATE()),\r\n",
                "('B', 2, 2, 3, DATEADD(DAY, -FLOOR(RAND() * 1826), GETDATE()), GETDATE()),\r\n",
                "('C', 3, 3, 3, DATEADD(DAY, -FLOOR(RAND() * 1826), GETDATE()), GETDATE()),\r\n",
                "('D', 4, 4, 3, DATEADD(DAY, -FLOOR(RAND() * 1826), GETDATE()), GETDATE()),\r\n",
                "('F', 5, 5, 3, DATEADD(DAY, -FLOOR(RAND() * 1826), GETDATE()), GETDATE()),\r\n",
                "\r\n",
                "('A', 1, 1, 4, DATEADD(DAY, -FLOOR(RAND() * 1826), GETDATE()), GETDATE()),\r\n",
                "('B', 2, 2, 4, DATEADD(DAY, -FLOOR(RAND() * 1826), GETDATE()), GETDATE()),\r\n",
                "('C', 3, 3, 4, DATEADD(DAY, -FLOOR(RAND() * 1826), GETDATE()), GETDATE()),\r\n",
                "('D', 4, 4, 4, DATEADD(DAY, -FLOOR(RAND() * 1826), GETDATE()), GETDATE()),\r\n",
                "('F', 5, 5, 4, DATEADD(DAY, -FLOOR(RAND() * 1826), GETDATE()), GETDATE()),\r\n",
                "\r\n",
                "('C', 1, 1, 1, DATEADD(DAY, -FLOOR(RAND() * 1826), GETDATE()), GETDATE()),\r\n",
                "('A', 2, 2, 1, DATEADD(DAY, -FLOOR(RAND() * 1826), GETDATE()), GETDATE()),\r\n",
                "('B', 3, 3, 1, DATEADD(DAY, -FLOOR(RAND() * 1826), GETDATE()), GETDATE()),\r\n",
                "('F', 4, 4, 1, DATEADD(DAY, -FLOOR(RAND() * 1826), GETDATE()), GETDATE()),\r\n",
                "('D', 5, 5, 1, DATEADD(DAY, -FLOOR(RAND() * 1826), GETDATE()), GETDATE()),\r\n",
                "\r\n",
                "('D', 1, 1, 2, DATEADD(DAY, -FLOOR(RAND() * 1826), GETDATE()), GETDATE()),\r\n",
                "('C', 2, 2, 2, DATEADD(DAY, -FLOOR(RAND() * 1826), GETDATE()), GETDATE()),\r\n",
                "('B', 3, 3, 2, DATEADD(DAY, -FLOOR(RAND() * 1826), GETDATE()), GETDATE()),\r\n",
                "('A', 4, 4, 2, DATEADD(DAY, -FLOOR(RAND() * 1826), GETDATE()), GETDATE()),\r\n",
                "('F', 5, 5, 2, DATEADD(DAY, -FLOOR(RAND() * 1826), GETDATE()), GETDATE()),\r\n",
                "\r\n",
                "('C', 1, 1, 3, DATEADD(DAY, -FLOOR(RAND() * 1826), GETDATE()), GETDATE()),\r\n",
                "('B', 2, 2, 3, DATEADD(DAY, -FLOOR(RAND() * 1826), GETDATE()), GETDATE()),\r\n",
                "('A', 3, 3, 3, DATEADD(DAY, -FLOOR(RAND() * 1826), GETDATE()), GETDATE()),\r\n",
                "('F', 4, 4, 3, DATEADD(DAY, -FLOOR(RAND() * 1826), GETDATE()), GETDATE()),\r\n",
                "('D', 5, 5, 3, DATEADD(DAY, -FLOOR(RAND() * 1826), GETDATE()), GETDATE()),\r\n",
                "\r\n",
                "('B', 1, 1, 4, DATEADD(DAY, -FLOOR(RAND() * 1826), GETDATE()), GETDATE()),\r\n",
                "('C', 2, 2, 4, DATEADD(DAY, -FLOOR(RAND() * 1826), GETDATE()), GETDATE()),\r\n",
                "('A', 3, 3, 4, DATEADD(DAY, -FLOOR(RAND() * 1826), GETDATE()), GETDATE()),\r\n",
                "('D', 4, 4, 4, DATEADD(DAY, -FLOOR(RAND() * 1826), GETDATE()), GETDATE()),\r\n",
                "('F', 5, 5, 4, DATEADD(DAY, -FLOOR(RAND() * 1826), GETDATE()), GETDATE());\r\n",
                ""
            ],
            "metadata": {
                "language": "sql",
                "azdata_cell_guid": "61c86d8d-cc80-4bbb-a1a6-608f80377aba"
            },
            "outputs": [
                {
                    "output_type": "display_data",
                    "data": {
                        "text/html": "(60 rows affected)"
                    },
                    "metadata": {}
                },
                {
                    "output_type": "display_data",
                    "data": {
                        "text/html": "Total execution time: 00:00:00.027"
                    },
                    "metadata": {}
                }
            ],
            "execution_count": 13
        },
        {
            "cell_type": "markdown",
            "source": [
                "## Hämta personal\n",
                "Databasadministratören får välja om denna vill se alla anställda, eller bara inom en av kategorierna så som ex lärare. (Skriv t.ex. två queries eller lös det på annat vis med hjälp av stored procedure)"
            ],
            "metadata": {
                "azdata_cell_guid": "d959ff8d-ea9b-4f49-93b4-57687fea24b0"
            },
            "attachments": {}
        },
        {
            "cell_type": "code",
            "source": [
                "CREATE PROCEDURE SelectAllEmployees\n",
                "    @EmployeeRole nvarchar(50)\n",
                "AS\n",
                "BEGIN\n",
                "    IF @EmployeeRole != ''\n",
                "    BEGIN\n",
                "        SELECT role.name as 'role name', employee.first_name, employee.last_name\n",
                "        FROM role_grope\n",
                "            JOIN role ON role_grope.role_id = role.id\n",
                "            JOIN employee ON role_grope.employee_id = employee.id\n",
                "        WHERE role.name = @EmployeeRole;\n",
                "    END\n",
                "    ELSE\n",
                "    BEGIN\n",
                "        SELECT role.name as 'role name', employee.first_name, employee.last_name\n",
                "        FROM role_grope\n",
                "            JOIN role ON role_grope.role_id = role.id\n",
                "            JOIN employee ON role_grope.employee_id = employee.id\n",
                "    END\n",
                "END;"
            ],
            "metadata": {
                "azdata_cell_guid": "f3dbbd49-88e9-4dc1-b3be-d097692e1853",
                "language": "sql",
                "tags": []
            },
            "outputs": [
                {
                    "output_type": "error",
                    "ename": "",
                    "evalue": "Msg 2714, Level 16, State 3, Procedure SelectAllEmployees, Line 1\r\nThere is already an object named 'SelectAllEmployees' in the database.",
                    "traceback": []
                },
                {
                    "output_type": "display_data",
                    "data": {
                        "text/html": "Total execution time: 00:00:00.021"
                    },
                    "metadata": {}
                }
            ],
            "execution_count": 2
        },
        {
            "cell_type": "code",
            "source": [
                "EXEC SelectAllEmployees @EmployeeRole = 'Lärare';"
            ],
            "metadata": {
                "language": "sql",
                "azdata_cell_guid": "7f69f143-45dd-4810-a76b-7cdaccc6a6ce"
            },
            "outputs": [
                {
                    "output_type": "display_data",
                    "data": {
                        "text/html": "(2 rows affected)"
                    },
                    "metadata": {}
                },
                {
                    "output_type": "display_data",
                    "data": {
                        "text/html": "Total execution time: 00:00:00.024"
                    },
                    "metadata": {}
                },
                {
                    "output_type": "execute_result",
                    "execution_count": 4,
                    "data": {
                        "application/vnd.dataresource+json": {
                            "schema": {
                                "fields": [
                                    {
                                        "name": "role name"
                                    },
                                    {
                                        "name": "first_name"
                                    },
                                    {
                                        "name": "last_name"
                                    }
                                ]
                            },
                            "data": [
                                {
                                    "role name": "Lärare",
                                    "first_name": "Anna",
                                    "last_name": "Svensson"
                                },
                                {
                                    "role name": "Lärare",
                                    "first_name": "Erik",
                                    "last_name": "Johansson"
                                }
                            ]
                        },
                        "text/html": "<table><tr><th>role name</th><th>first_name</th><th>last_name</th></tr><tr><td>Lärare</td><td>Anna</td><td>Svensson</td></tr><tr><td>Lärare</td><td>Erik</td><td>Johansson</td></tr></table>"
                    },
                    "metadata": {}
                }
            ],
            "execution_count": 4
        },
        {
            "cell_type": "markdown",
            "source": [
                "## Hämta alla betyg som satts den senaste månaden\n",
                "Här får användaren se en lista med alla betyg som satts senaste månaden där elevens namn, ämnet och betyget framgår."
            ],
            "metadata": {
                "language": "sql",
                "azdata_cell_guid": "71a0bd46-6018-4910-a6a0-3acf02038624"
            },
            "attachments": {}
        },
        {
            "cell_type": "code",
            "source": [
                "SELECT grade.[level], subject.name, student.first_name, student.last_name, grade.created_at\r\n",
                "FROM grade\r\n",
                "    JOIN student ON grade.student_id = student.id\r\n",
                "    JOIN subject ON grade.subject_id = subject.id\r\n",
                "WHERE grade.created_at >= DATEADD(MONTH, -1, GETDATE())\r\n",
                "ORDER BY student.first_name, student.last_name, grade.created_at, grade.[level];"
            ],
            "metadata": {
                "language": "sql",
                "azdata_cell_guid": "edaa0e31-581a-4d2d-bf98-ccf2c810c2d4"
            },
            "outputs": [],
            "execution_count": 8
        },
        {
            "cell_type": "code",
            "source": [
                "UPDATE grade SET created_at = '2025-01-01' WHERE id = 1;"
            ],
            "metadata": {
                "language": "sql",
                "azdata_cell_guid": "9acd4c66-5507-44ec-8c24-ec2eb2d8f151"
            },
            "outputs": [],
            "execution_count": null
        },
        {
            "cell_type": "markdown",
            "source": [
                "## Hämta en lista med alla ämnen och det snittbetyg som eleverna fått i det ämnet samt det högsta och lägsta betyget som någon fått i kursen.\n",
                "Här får användaren se en lista med alla ämnen i databasen, snittbetyget samt det högsta och lägsta betyget för varje ämne.\n",
                "\n",
                "Tips: För att få ut ett medelvärde för betyg med bokstäver kan du behöva omvandla värdena till siffror."
            ],
            "metadata": {
                "language": "sql",
                "azdata_cell_guid": "53ffafad-03ce-48ad-aa88-33b8fd1c3961"
            },
            "attachments": {}
        },
        {
            "cell_type": "code",
            "source": [
                "SELECT\r\n",
                "    subject.name,\r\n",
                "    AVG(\r\n",
                "        CASE \r\n",
                "            WHEN [level] = 'A' THEN 6\r\n",
                "            WHEN [level] = 'B' THEN 5\r\n",
                "            WHEN [level] = 'C' THEN 4\r\n",
                "            WHEN [level] = 'D' THEN 3\r\n",
                "            WHEN [level] = 'E' THEN 2\r\n",
                "            WHEN [level] = 'F' THEN 1\r\n",
                "            ELSE NULL\r\n",
                "        END\r\n",
                "    ) AS avg_level,\r\n",
                "    MIN(\r\n",
                "        CASE \r\n",
                "            WHEN [level] = 'A' THEN 6\r\n",
                "            WHEN [level] = 'B' THEN 5\r\n",
                "            WHEN [level] = 'C' THEN 4\r\n",
                "            WHEN [level] = 'D' THEN 3\r\n",
                "            WHEN [level] = 'E' THEN 2\r\n",
                "            WHEN [level] = 'F' THEN 1\r\n",
                "            ELSE NULL\r\n",
                "        END\r\n",
                "    ) AS min_level,\r\n",
                "    MAX(\r\n",
                "        CASE \r\n",
                "            WHEN [level] = 'A' THEN 6\r\n",
                "            WHEN [level] = 'B' THEN 5\r\n",
                "            WHEN [level] = 'C' THEN 4\r\n",
                "            WHEN [level] = 'D' THEN 3\r\n",
                "            WHEN [level] = 'E' THEN 2\r\n",
                "            WHEN [level] = 'F' THEN 1\r\n",
                "            ELSE NULL\r\n",
                "        END\r\n",
                "    ) AS max_level,\r\n",
                "    FORMAT(MIN(grade.created_at), 'd') as first_grade,\r\n",
                "    FORMAT(MAX(grade.created_at), 'd') as last_grade \r\n",
                "FROM grade\r\n",
                "    JOIN subject ON grade.subject_id = subject.id\r\n",
                "WHERE created_at BETWEEN '2023-08-01' AND '2025-06-15'\r\n",
                "GROUP BY subject.name;\r\n",
                ""
            ],
            "metadata": {
                "language": "sql",
                "azdata_cell_guid": "2eeee765-7ebb-4c10-8392-29d82adaa851"
            },
            "outputs": [
{
    "output_type": "display_data",
    "data": {
        "text/html": "(4 rows affected)"
    },
    "metadata": {}
}, {
    "output_type": "display_data",
    "data": {
        "text/html": "Total execution time: 00:00:00.724"
    },
    "metadata": {}
}, {
    "output_type": "execute_result",
    "metadata": {},
    "execution_count": 8,
    "data": {
        "application/vnd.dataresource+json": {
            "schema": {
                "fields": [
                    {
                        "name": "name"
                    },
                    {
                        "name": "avg_level"
                    },
                    {
                        "name": "min_level"
                    },
                    {
                        "name": "max_level"
                    },
                    {
                        "name": "first_grade"
                    },
                    {
                        "name": "last_grade"
                    }
                ]
            },
            "data": [
                {
                    "name": "Biologi",
                    "avg_level": "3",
                    "min_level": "1",
                    "max_level": "6",
                    "first_grade": "10/24/2023",
                    "last_grade": "12/3/2024"
                },
                {
                    "name": "Engelska",
                    "avg_level": "5",
                    "min_level": "5",
                    "max_level": "5",
                    "first_grade": "9/2/2024",
                    "last_grade": "9/2/2024"
                },
                {
                    "name": "Matematik",
                    "avg_level": "3",
                    "min_level": "1",
                    "max_level": "6",
                    "first_grade": "2/2/2024",
                    "last_grade": "1/17/2025"
                },
                {
                    "name": "Svenska",
                    "avg_level": "4",
                    "min_level": "1",
                    "max_level": "6",
                    "first_grade": "8/18/2023",
                    "last_grade": "1/1/2025"
                }
            ]
        },
        "text/html": [
            "<table>",
            "<tr><th>name</th><th>avg_level</th><th>min_level</th><th>max_level</th><th>first_grade</th><th>last_grade</th></tr>",
            "<tr><td>Biologi</td><td>3</td><td>1</td><td>6</td><td>10/24/2023</td><td>12/3/2024</td></tr>",
            "<tr><td>Engelska</td><td>5</td><td>5</td><td>5</td><td>9/2/2024</td><td>9/2/2024</td></tr>",
            "<tr><td>Matematik</td><td>3</td><td>1</td><td>6</td><td>2/2/2024</td><td>1/17/2025</td></tr>",
            "<tr><td>Svenska</td><td>4</td><td>1</td><td>6</td><td>8/18/2023</td><td>1/1/2025</td></tr>",
            "</table>"
        ]
    }
}
],
            "execution_count": 8
        },
        {
            "cell_type": "code",
            "source": [
                "use SkolaJosef;\r\n",
                "\r\n",
                "SELECT subject.name, grade.[level], subject.id FROM grade\r\n",
                "JOIN subject ON grade.subject_id = subject.id\r\n",
                "WHERE subject.id = 4;"
            ],
            "metadata": {
                "azdata_cell_guid": "d6adbaf8-fd77-4348-af45-4d5978510ab0",
                "language": "sql"
            },
            "outputs": [
                {
                    "output_type": "display_data",
                    "data": {
                        "text/html": "(16 rows affected)"
                    },
                    "metadata": {}
                },
                {
                    "output_type": "display_data",
                    "data": {
                        "text/html": "Total execution time: 00:00:00.013"
                    },
                    "metadata": {}
                },
                {
                    "output_type": "execute_result",
                    "metadata": {},
                    "execution_count": 7,
                    "data": {
                        "application/vnd.dataresource+json": {
                            "schema": {
                                "fields": [
                                    {
                                        "name": "name"
                                    },
                                    {
                                        "name": "level"
                                    },
                                    {
                                        "name": "id"
                                    }
                                ]
                            },
                            "data": [
                                {
                                    "name": "Biologi",
                                    "level": "B",
                                    "id": "4"
                                },
                                {
                                    "name": "Biologi",
                                    "level": "A",
                                    "id": "4"
                                },
                                {
                                    "name": "Biologi",
                                    "level": "B",
                                    "id": "4"
                                },
                                {
                                    "name": "Biologi",
                                    "level": "C",
                                    "id": "4"
                                },
                                {
                                    "name": "Biologi",
                                    "level": "D",
                                    "id": "4"
                                },
                                {
                                    "name": "Biologi",
                                    "level": "F",
                                    "id": "4"
                                },
                                {
                                    "name": "Biologi",
                                    "level": "A",
                                    "id": "4"
                                },
                                {
                                    "name": "Biologi",
                                    "level": "B",
                                    "id": "4"
                                },
                                {
                                    "name": "Biologi",
                                    "level": "C",
                                    "id": "4"
                                },
                                {
                                    "name": "Biologi",
                                    "level": "D",
                                    "id": "4"
                                },
                                {
                                    "name": "Biologi",
                                    "level": "F",
                                    "id": "4"
                                },
                                {
                                    "name": "Biologi",
                                    "level": "B",
                                    "id": "4"
                                },
                                {
                                    "name": "Biologi",
                                    "level": "C",
                                    "id": "4"
                                },
                                {
                                    "name": "Biologi",
                                    "level": "A",
                                    "id": "4"
                                },
                                {
                                    "name": "Biologi",
                                    "level": "D",
                                    "id": "4"
                                },
                                {
                                    "name": "Biologi",
                                    "level": "F",
                                    "id": "4"
                                }
                            ]
                        },
                        "text/html": [
                            "<table>",
                            "<tr><th>name</th><th>level</th><th>id</th></tr>",
                            "<tr><td>Biologi</td><td>B</td><td>4</td></tr>",
                            "<tr><td>Biologi</td><td>A</td><td>4</td></tr>",
                            "<tr><td>Biologi</td><td>B</td><td>4</td></tr>",
                            "<tr><td>Biologi</td><td>C</td><td>4</td></tr>",
                            "<tr><td>Biologi</td><td>D</td><td>4</td></tr>",
                            "<tr><td>Biologi</td><td>F</td><td>4</td></tr>",
                            "<tr><td>Biologi</td><td>A</td><td>4</td></tr>",
                            "<tr><td>Biologi</td><td>B</td><td>4</td></tr>",
                            "<tr><td>Biologi</td><td>C</td><td>4</td></tr>",
                            "<tr><td>Biologi</td><td>D</td><td>4</td></tr>",
                            "<tr><td>Biologi</td><td>F</td><td>4</td></tr>",
                            "<tr><td>Biologi</td><td>B</td><td>4</td></tr>",
                            "<tr><td>Biologi</td><td>C</td><td>4</td></tr>",
                            "<tr><td>Biologi</td><td>A</td><td>4</td></tr>",
                            "<tr><td>Biologi</td><td>D</td><td>4</td></tr>",
                            "<tr><td>Biologi</td><td>F</td><td>4</td></tr>",
                            "</table>"
                        ]
                    }
                }
            ],
            "execution_count": 7
        },
        {
            "cell_type": "markdown",
            "source": [
                "## Lägga till nya elever.\r\n",
                "Användaren får möjlighet att mata in uppgifter om en ny elev och den datan sparas då ner i databasen."
            ],
            "metadata": {
                "language": "sql",
                "azdata_cell_guid": "3cbb58cc-615b-41ce-8d1b-b85f204ef464"
            },
            "attachments": {}
        },
        {
            "cell_type": "code",
            "source": [
                "CREATE PROCEDURE insertNewStudent\r\n",
                "    @first_name VARCHAR(50),\r\n",
                "    @last_name VARCHAR(50),\r\n",
                "    @personal_code_number VARCHAR(11),\r\n",
                "    @class_id INT\r\n",
                "AS\r\n",
                "BEGIN\r\n",
                "    INSERT INTO student\r\n",
                "        (first_name, last_name, personal_code_number, class_id)\r\n",
                "    VALUES\r\n",
                "        (@first_name, @last_name, @personal_code_number, @class_id);\r\n",
                "END;"
            ],
            "metadata": {
                "language": "sql",
                "azdata_cell_guid": "f461ba67-e6c3-4a86-a520-6ca703c9098d"
            },
            "outputs": [],
            "execution_count": 54
        },
        {
            "cell_type": "code",
            "source": [
                "EXEC insertNewStudent 'John', 'Doe', '19990621-7745', 1"
            ],
            "metadata": {
                "language": "sql",
                "azdata_cell_guid": "deb2634b-3629-4c39-9731-1187bf72f07a"
            },
            "outputs": [],
            "execution_count": 56
        },
        {
            "cell_type": "code",
            "source": [
                "UPDATE student SET personal_code_number = '19990621-7745' WHERE id = 6;"
            ],
            "metadata": {
                "azdata_cell_guid": "a8a028f5-dbd6-4cec-825e-2dc3dad931f0",
                "language": "sql"
            },
            "outputs": [],
            "execution_count": 58
        }
    ]
}